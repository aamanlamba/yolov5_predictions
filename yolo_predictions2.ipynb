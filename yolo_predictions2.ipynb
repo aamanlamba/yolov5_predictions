{
 "cells": [
  {
   "cell_type": "code",
   "execution_count": 2,
   "metadata": {},
   "outputs": [
    {
     "name": "stdout",
     "output_type": "stream",
     "text": [
      "Requirement already satisfied: PyYAML in e:\\anaconda3\\envs\\cudaml\\lib\\site-packages (6.0)\n",
      "Note: you may need to restart the kernel to use updated packages.\n"
     ]
    }
   ],
   "source": [
    "%pip install PyYAML"
   ]
  },
  {
   "cell_type": "code",
   "execution_count": 4,
   "metadata": {},
   "outputs": [],
   "source": [
    "import cv2\n",
    "import numpy as np \n",
    "import os \n",
    "import yaml \n",
    "from yaml.loader import SafeLoader \n",
    "\n"
   ]
  },
  {
   "cell_type": "code",
   "execution_count": 6,
   "metadata": {},
   "outputs": [
    {
     "name": "stdout",
     "output_type": "stream",
     "text": [
      "['person', 'car', 'chair', 'bottle', 'pottedplant', 'bird', 'dog', 'sofa', 'bicycle', 'horse', 'boat', 'motorbike', 'cat', 'tvmonitor', 'cow', 'sheep', 'aeroplane', 'train', 'diningtable', 'bus']\n"
     ]
    }
   ],
   "source": [
    "# load yaml file\n",
    "with open('data.yaml', mode = 'r') as f:\n",
    "    data_yaml = yaml.load(f,Loader = SafeLoader)\n",
    "labels = data_yaml['names']\n",
    "print(labels)\n"
   ]
  },
  {
   "cell_type": "code",
   "execution_count": 16,
   "metadata": {},
   "outputs": [
    {
     "name": "stdout",
     "output_type": "stream",
     "text": [
      "956 1920 3\n",
      "(1, 25200, 25)\n"
     ]
    }
   ],
   "source": [
    "# load YOLO model\n",
    "yolo = cv2.dnn.readNetFromONNX('./data_images15/weights/best.onnx')\n",
    "yolo.setPreferableBackend(cv2.dnn.DNN_BACKEND_OPENCV)\n",
    "yolo.setPreferableTarget(cv2.dnn.DNN_TARGET_CPU)\n",
    "\n",
    "# load image\n",
    "img = cv2.imread('./street_image.jpg')\n",
    "image = img.copy()\n",
    "row, col, d = image.shape\n",
    "print(row, col, d)\n",
    "#show image\n",
    "#cv2.imshow('image',image)\n",
    "#cv2.waitKey(0)\n",
    "#cv2.destroyAllWindows()\n",
    "# get YOLO prediction from imageL\n",
    "max_rc = max(row, col)\n",
    "# convert image to square image (array)\n",
    "input_image = np.zeros((max_rc, max_rc, 3),dtype=np.uint8)\n",
    "input_image[0:row,0:col] = image\n",
    "#cv2.imshow('input_image',input_image)\n",
    "#cv2.waitKey(0)\n",
    "#cv2.destroyAllWindows()\n",
    "# get prediction from square array\n",
    "INPUT_WH_YOLO = 640\n",
    "blob = cv2.dnn.blobFromImage(input_image,1/255,(INPUT_WH_YOLO,INPUT_WH_YOLO), swapRB=True, crop=False)\n",
    "yolo.setInput(blob)\n",
    "preds = yolo.forward() # prediction from yolo\n",
    "print(preds.shape)\n"
   ]
  },
  {
   "cell_type": "markdown",
   "metadata": {},
   "source": [
    "#### The 25200 rows are 25200 bounding boxes\n",
    "#### The 25 columns are 5 bounding box columns (CenterX, CenterY, W, H, Confidence) and\n",
    "#### 20 Probability Scores for each class (person, bus, etc.)\n"
   ]
  },
  {
   "cell_type": "code",
   "execution_count": 30,
   "metadata": {},
   "outputs": [],
   "source": [
    "# Non Maximum Suppression\n",
    "# remove duplicates, non maximums and select only bounding boxes having good confidence scores (0.4) and high probability (0.25)\n",
    "detections = preds[0] # 25200,25)\n",
    "boxes = []\n",
    "confidences = []\n",
    "classes = []\n",
    "# Draw the Bounding Box\n",
    "image_w, image_h = input_image.shape[:2]\n",
    "x_factor = image_w / INPUT_WH_YOLO\n",
    "y_factor = image_h / INPUT_WH_YOLO\n",
    "\n",
    "for i in range(len(detections)):\n",
    "    row = detections[i]\n",
    "    confidence = row[4]\n",
    "    if confidence > 0.4: #select bounding box\n",
    "        class_score = row[5:].max() # maximum probability of class object detected\n",
    "        class_id = row[5:].argmax() # get index position of object\n",
    "\n",
    "        if class_score > 0.25:\n",
    "{% load             cx, cy, w, h = row[:4]\n",
    "_tags %}            # construct bounding box \n",
    "            left = int((cx-0.5*w)* x_factor)\n",
    "            top = int((cy-0.5*w)* y_factor)\n",
    "            width = int(w * x_factor)\n",
    "            height = int(h * y_factor)\n",
    "            box = np.array([left,top,width,height])\n",
    "\n",
    "            #append values into list\n",
    "            confidences.append(confidence)\n",
    "            boxes.append(box)\n",
    "            classes.append(class_id)\n",
    "\n",
    "# clean, remove duplicates\n",
    "boxes_np = np.array(boxes).tolist()\n",
    "confidences_np = np.array(confidences).tolist()\n",
    "\n",
    "#Non-Maximal suppression\n",
    "index = cv2.dnn.NMSBoxes(boxes_np,confidences_np,0.25,0.45).flatten()\n",
    "\n"
   ]
  },
  {
   "cell_type": "code",
   "execution_count": 1,
   "metadata": {},
   "outputs": [
    {
     "ename": "NameError",
     "evalue": "name 'index' is not defined",
     "output_type": "error",
     "traceback": [
      "\u001b[1;31m---------------------------------------------------------------------------\u001b[0m",
      "\u001b[1;31mNameError\u001b[0m                                 Traceback (most recent call last)",
      "Cell \u001b[1;32mIn[1], line 2\u001b[0m\n\u001b[0;32m      1\u001b[0m \u001b[39m# Draw the Bounding Box\u001b[39;00m\n\u001b[1;32m----> 2\u001b[0m \u001b[39mfor\u001b[39;00m ind \u001b[39min\u001b[39;00m index:\n\u001b[0;32m      3\u001b[0m     x,y,w,h \u001b[39m=\u001b[39m boxes_np[ind]\n\u001b[0;32m      4\u001b[0m     bb_confidence \u001b[39m=\u001b[39m \u001b[39mround\u001b[39m(confidences_np[ind] \u001b[39m*\u001b[39m \u001b[39m100\u001b[39m,\u001b[39m2\u001b[39m)\n",
      "\u001b[1;31mNameError\u001b[0m: name 'index' is not defined"
     ]
    }
   ],
   "source": [
    "# Draw the Bounding Box\n",
    "for ind in index:\n",
    "    x,y,w,h = boxes_np[ind]\n",
    "    bb_confidence = round(confidences_np[ind] * 100,2)\n",
    "    classes_id = classes[ind]\n",
    "    class_name = labels[classes_id]\n",
    "    text = f'{class_name}: {bb_confidence}%'\n",
    "    #print(text)\n",
    "    cv2.rectangle(image,(x,y),(x+w,y+h),(0,255,0),2)\n",
    "    cv2.rectangle(image,(x,y-30),(x+w,y),(255,255,255),-1)\n",
    "    cv2.putText(image,text,(x,y-10),cv2.FONT_HERSHEY_PLAIN,0.7,(0,0,0),1)\n",
    "\n",
    "cv2.imshow('Yolo Prediction',image)\n",
    "cv2.waitKey(0)\n",
    "cv2.destroyAllWindows()\n"
   ]
  }
 ],
 "metadata": {
  "kernelspec": {
   "display_name": "cudaml",
   "language": "python",
   "name": "python3"
  },
  "language_info": {
   "codemirror_mode": {
    "name": "ipython",
    "version": 3
   },
   "file_extension": ".py",
   "mimetype": "text/x-python",
   "name": "python",
   "nbconvert_exporter": "python",
   "pygments_lexer": "ipython3",
   "version": "3.9.17"
  },
  "orig_nbformat": 4
 },
 "nbformat": 4,
 "nbformat_minor": 2
}
