{
 "cells": [
  {
   "cell_type": "code",
   "execution_count": 2,
   "metadata": {},
   "outputs": [],
   "source": [
    "import cv2\n",
    "from yolo_predictions1 import YOLO_Pred\n",
    "\n",
    "'''\n",
    "`YOLO_Pred` is a class that is used for making predictions using the YOLO (You Only Look Once) \n",
    "object detection algorithm. It likely contains methods for loading the YOLO model, \n",
    "preprocessing images, and making predictions on the images.\n",
    "'''\n",
    "yolo = YOLO_Pred('./data_images15/weights/best.onnx','./data.yaml')\n",
    "yolo2 = YOLO_Pred('./Model/weights/best.onnx','./data.yaml')"
   ]
  },
  {
   "cell_type": "code",
   "execution_count": 3,
   "metadata": {},
   "outputs": [],
   "source": [
    "img = cv2.imread('./street_image.jpg')\n",
    "cv2.imshow('img',img)\n",
    "cv2.waitKey(0)\n",
    "cv2.destroyAllWindows()"
   ]
  },
  {
   "cell_type": "code",
   "execution_count": 4,
   "metadata": {},
   "outputs": [],
   "source": [
    "# predictions\n",
    "img_pred = yolo.predictions(img)\n",
    "img_pred2 = yolo2.predictions(img)\n",
    "cv2.imshow('img',img)\n",
    "cv2.imshow('Prediction Image',img_pred)\n",
    "cv2.imshow('Prediction Image2',img_pred2)\n",
    "\n",
    "cv2.waitKey(0)\n",
    "cv2.destroyAllWindows()"
   ]
  },
  {
   "cell_type": "code",
   "execution_count": 5,
   "metadata": {},
   "outputs": [
    {
     "name": "stdout",
     "output_type": "stream",
     "text": [
      "unable to read video\n"
     ]
    }
   ],
   "source": [
    "# predict in video - real-time object detection\n",
    "cap = cv2.VideoCapture('video.mp4')\n",
    "while True:\n",
    "    ret, frame = cap.read()\n",
    "    if ret == False:\n",
    "        print('unable to read video')\n",
    "        break\n",
    "    \n",
    "    pred_image_vid = yolo.predictions(frame)\n",
    "    cv2.imshow('YOLO video image', pred_image_vid)\n",
    "    if cv2.waitKey(1) == 27:\n",
    "        break\n",
    "    \n",
    "cv2.destroyAllWindows()\n",
    "cap.release()\n",
    "    "
   ]
  }
 ],
 "metadata": {
  "kernelspec": {
   "display_name": "cudaml",
   "language": "python",
   "name": "python3"
  },
  "language_info": {
   "codemirror_mode": {
    "name": "ipython",
    "version": 3
   },
   "file_extension": ".py",
   "mimetype": "text/x-python",
   "name": "python",
   "nbconvert_exporter": "python",
   "pygments_lexer": "ipython3",
   "version": "3.9.17"
  },
  "orig_nbformat": 4
 },
 "nbformat": 4,
 "nbformat_minor": 2
}
